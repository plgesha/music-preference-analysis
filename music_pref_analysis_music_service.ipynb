{
  "nbformat": 4,
  "nbformat_minor": 0,
  "metadata": {
    "kernelspec": {
      "display_name": "Python 3",
      "language": "python",
      "name": "python3"
    },
    "language_info": {
      "codemirror_mode": {
        "name": "ipython",
        "version": 3
      },
      "file_extension": ".py",
      "mimetype": "text/x-python",
      "name": "python",
      "nbconvert_exporter": "python",
      "pygments_lexer": "ipython3",
      "version": "3.7.8"
    },
    "toc": {
      "base_numbering": 1,
      "nav_menu": {},
      "number_sections": true,
      "sideBar": true,
      "skip_h1_title": true,
      "title_cell": "Table of Contents",
      "title_sidebar": "Contents",
      "toc_cell": false,
      "toc_position": {},
      "toc_section_display": true,
      "toc_window_display": false
    },
    "colab": {
      "name": "copy-music-analysis-yandex-praktikum.ipynb",
      "provenance": [],
      "collapsed_sections": []
    }
  },
  "cells": [
    {
      "cell_type": "markdown",
      "metadata": {
        "deletable": false,
        "id": "5UYxO1GdF6Wy",
        "tags": [
          "f6c88c58-a82b-4f28-8bd6-fd55c0017917"
        ]
      },
      "source": [
        "# 1. Data collection"
      ]
    },
    {
      "cell_type": "code",
      "metadata": {
        "deletable": false,
        "id": "HirRov5vZ3MT"
      },
      "source": [
        "import pandas as pd"
      ],
      "execution_count": null,
      "outputs": []
    },
    {
      "cell_type": "code",
      "metadata": {
        "deletable": false,
        "id": "NB6j931yS4hy"
      },
      "source": [
        "df = pd.read_csv('/datasets/music_project.csv')"
      ],
      "execution_count": null,
      "outputs": []
    },
    {
      "cell_type": "code",
      "metadata": {
        "deletable": false,
        "id": "DY5i8tgXVDGj",
        "outputId": "e34e8c00-499a-4282-f1de-bfd202c19986"
      },
      "source": [
        "df.head(10)"
      ],
      "execution_count": null,
      "outputs": [
        {
          "output_type": "execute_result",
          "data": {
            "text/html": [
              "<div>\n",
              "<style scoped>\n",
              "    .dataframe tbody tr th:only-of-type {\n",
              "        vertical-align: middle;\n",
              "    }\n",
              "\n",
              "    .dataframe tbody tr th {\n",
              "        vertical-align: top;\n",
              "    }\n",
              "\n",
              "    .dataframe thead th {\n",
              "        text-align: right;\n",
              "    }\n",
              "</style>\n",
              "<table border=\"1\" class=\"dataframe\">\n",
              "  <thead>\n",
              "    <tr style=\"text-align: right;\">\n",
              "      <th></th>\n",
              "      <th>userID</th>\n",
              "      <th>Track</th>\n",
              "      <th>artist</th>\n",
              "      <th>genre</th>\n",
              "      <th>City</th>\n",
              "      <th>time</th>\n",
              "      <th>Day</th>\n",
              "    </tr>\n",
              "  </thead>\n",
              "  <tbody>\n",
              "    <tr>\n",
              "      <td>0</td>\n",
              "      <td>FFB692EC</td>\n",
              "      <td>Kamigata To Boots</td>\n",
              "      <td>The Mass Missile</td>\n",
              "      <td>rock</td>\n",
              "      <td>Saint-Petersburg</td>\n",
              "      <td>20:28:33</td>\n",
              "      <td>Wednesday</td>\n",
              "    </tr>\n",
              "    <tr>\n",
              "      <td>1</td>\n",
              "      <td>55204538</td>\n",
              "      <td>Delayed Because of Accident</td>\n",
              "      <td>Andreas Rönnberg</td>\n",
              "      <td>rock</td>\n",
              "      <td>Moscow</td>\n",
              "      <td>14:07:09</td>\n",
              "      <td>Friday</td>\n",
              "    </tr>\n",
              "    <tr>\n",
              "      <td>2</td>\n",
              "      <td>20EC38</td>\n",
              "      <td>Funiculì funiculà</td>\n",
              "      <td>Mario Lanza</td>\n",
              "      <td>pop</td>\n",
              "      <td>Saint-Petersburg</td>\n",
              "      <td>20:58:07</td>\n",
              "      <td>Wednesday</td>\n",
              "    </tr>\n",
              "    <tr>\n",
              "      <td>3</td>\n",
              "      <td>A3DD03C9</td>\n",
              "      <td>Dragons in the Sunset</td>\n",
              "      <td>Fire + Ice</td>\n",
              "      <td>folk</td>\n",
              "      <td>Saint-Petersburg</td>\n",
              "      <td>08:37:09</td>\n",
              "      <td>Monday</td>\n",
              "    </tr>\n",
              "    <tr>\n",
              "      <td>4</td>\n",
              "      <td>E2DC1FAE</td>\n",
              "      <td>Soul People</td>\n",
              "      <td>Space Echo</td>\n",
              "      <td>dance</td>\n",
              "      <td>Moscow</td>\n",
              "      <td>08:34:34</td>\n",
              "      <td>Monday</td>\n",
              "    </tr>\n",
              "    <tr>\n",
              "      <td>5</td>\n",
              "      <td>842029A1</td>\n",
              "      <td>Преданная</td>\n",
              "      <td>IMPERVTOR</td>\n",
              "      <td>rusrap</td>\n",
              "      <td>Saint-Petersburg</td>\n",
              "      <td>13:09:41</td>\n",
              "      <td>Friday</td>\n",
              "    </tr>\n",
              "    <tr>\n",
              "      <td>6</td>\n",
              "      <td>4CB90AA5</td>\n",
              "      <td>True</td>\n",
              "      <td>Roman Messer</td>\n",
              "      <td>dance</td>\n",
              "      <td>Moscow</td>\n",
              "      <td>13:00:07</td>\n",
              "      <td>Wednesday</td>\n",
              "    </tr>\n",
              "    <tr>\n",
              "      <td>7</td>\n",
              "      <td>F03E1C1F</td>\n",
              "      <td>Feeling This Way</td>\n",
              "      <td>Polina Griffith</td>\n",
              "      <td>dance</td>\n",
              "      <td>Moscow</td>\n",
              "      <td>20:47:49</td>\n",
              "      <td>Wednesday</td>\n",
              "    </tr>\n",
              "    <tr>\n",
              "      <td>8</td>\n",
              "      <td>8FA1D3BE</td>\n",
              "      <td>И вновь продолжается бой</td>\n",
              "      <td>NaN</td>\n",
              "      <td>ruspop</td>\n",
              "      <td>Moscow</td>\n",
              "      <td>09:17:40</td>\n",
              "      <td>Friday</td>\n",
              "    </tr>\n",
              "    <tr>\n",
              "      <td>9</td>\n",
              "      <td>E772D5C0</td>\n",
              "      <td>Pessimist</td>\n",
              "      <td>NaN</td>\n",
              "      <td>dance</td>\n",
              "      <td>Saint-Petersburg</td>\n",
              "      <td>21:20:49</td>\n",
              "      <td>Wednesday</td>\n",
              "    </tr>\n",
              "  </tbody>\n",
              "</table>\n",
              "</div>"
            ],
            "text/plain": [
              "     userID                        Track            artist   genre  \\\n",
              "0  FFB692EC            Kamigata To Boots  The Mass Missile    rock   \n",
              "1  55204538  Delayed Because of Accident  Andreas Rönnberg    rock   \n",
              "2    20EC38            Funiculì funiculà       Mario Lanza     pop   \n",
              "3  A3DD03C9        Dragons in the Sunset        Fire + Ice    folk   \n",
              "4  E2DC1FAE                  Soul People        Space Echo   dance   \n",
              "5  842029A1                    Преданная         IMPERVTOR  rusrap   \n",
              "6  4CB90AA5                         True      Roman Messer   dance   \n",
              "7  F03E1C1F             Feeling This Way   Polina Griffith   dance   \n",
              "8  8FA1D3BE     И вновь продолжается бой               NaN  ruspop   \n",
              "9  E772D5C0                    Pessimist               NaN   dance   \n",
              "\n",
              "             City        time        Day  \n",
              "0  Saint-Petersburg  20:28:33  Wednesday  \n",
              "1            Moscow  14:07:09     Friday  \n",
              "2  Saint-Petersburg  20:58:07  Wednesday  \n",
              "3  Saint-Petersburg  08:37:09     Monday  \n",
              "4            Moscow  08:34:34     Monday  \n",
              "5  Saint-Petersburg  13:09:41     Friday  \n",
              "6            Moscow  13:00:07  Wednesday  \n",
              "7            Moscow  20:47:49  Wednesday  \n",
              "8            Moscow  09:17:40     Friday  \n",
              "9  Saint-Petersburg  21:20:49  Wednesday  "
            ]
          },
          "metadata": {
            "tags": []
          },
          "execution_count": 120
        }
      ]
    },
    {
      "cell_type": "code",
      "metadata": {
        "deletable": false,
        "id": "K7t8OdZsYN2y",
        "outputId": "06cebb0c-fc4e-4c34-e1c7-40ccdfcbc9a6"
      },
      "source": [
        "df.info()"
      ],
      "execution_count": null,
      "outputs": [
        {
          "output_type": "stream",
          "text": [
            "<class 'pandas.core.frame.DataFrame'>\n",
            "RangeIndex: 65079 entries, 0 to 65078\n",
            "Data columns (total 7 columns):\n",
            "  userID    65079 non-null object\n",
            "Track       63848 non-null object\n",
            "artist      57876 non-null object\n",
            "genre       63881 non-null object\n",
            "  City      65079 non-null object\n",
            "time        65079 non-null object\n",
            "Day         65079 non-null object\n",
            "dtypes: object(7)\n",
            "memory usage: 3.5+ MB\n"
          ],
          "name": "stdout"
        }
      ]
    },
    {
      "cell_type": "markdown",
      "metadata": {
        "deletable": false,
        "id": "CnHv9HZCc7LN"
      },
      "source": [
        "* userID — user ID;\n",
        "* Track — track name;  \n",
        "* artist — artist name;\n",
        "* genre — genre name;\n",
        "* City — city, where user listened to the track (Moscow or Saint Petersburg);\n",
        "* time — time, when user listened to the track;\n",
        "* Day — day of the week."
      ]
    },
    {
      "cell_type": "markdown",
      "metadata": {
        "deletable": false,
        "id": "ZYaC0bU-IZ0a",
        "tags": [
          "2c946931-9c91-4e15-baf8-43fb79bcb454"
        ]
      },
      "source": [
        "# 2. Data preparation"
      ]
    },
    {
      "cell_type": "markdown",
      "metadata": {
        "deletable": false,
        "id": "Dl8grmTrPxZi"
      },
      "source": [
        "Rename columns:"
      ]
    },
    {
      "cell_type": "code",
      "metadata": {
        "deletable": false,
        "id": "Tag65F_Uitsx",
        "outputId": "f3aebc05-5685-4530-c7ac-8f403e1f1493"
      },
      "source": [
        "df.columns"
      ],
      "execution_count": null,
      "outputs": [
        {
          "output_type": "execute_result",
          "data": {
            "text/plain": [
              "Index(['  userID', 'Track', 'artist', 'genre', '  City  ', 'time', 'Day'], dtype='object')"
            ]
          },
          "metadata": {
            "tags": []
          },
          "execution_count": 122
        }
      ]
    },
    {
      "cell_type": "code",
      "metadata": {
        "deletable": false,
        "id": "XintVfCniw2-"
      },
      "source": [
        "df.set_axis(['user_id','track_name','artist_name','genre_name','city','time','weekday'], axis='columns', inplace=True)"
      ],
      "execution_count": null,
      "outputs": []
    },
    {
      "cell_type": "code",
      "metadata": {
        "deletable": false,
        "id": "ozQL91G4izdp",
        "outputId": "6a3c1634-7d6a-44d3-b5c8-7a8b26ae1e06"
      },
      "source": [
        "df.columns"
      ],
      "execution_count": null,
      "outputs": [
        {
          "output_type": "execute_result",
          "data": {
            "text/plain": [
              "Index(['user_id', 'track_name', 'artist_name', 'genre_name', 'city', 'time',\n",
              "       'weekday'],\n",
              "      dtype='object')"
            ]
          },
          "metadata": {
            "tags": []
          },
          "execution_count": 124
        }
      ]
    },
    {
      "cell_type": "markdown",
      "metadata": {
        "deletable": false,
        "id": "oc2qS2UBIkQu",
        "tags": [
          "325fae3b-abce-4c7c-8c41-87ed8a26ff5d"
        ]
      },
      "source": [
        "Deal with missing values:"
      ]
    },
    {
      "cell_type": "code",
      "metadata": {
        "deletable": false,
        "id": "BZh9yLHhjy_R",
        "outputId": "6b912cb8-9d1f-47fc-e325-07867840021c"
      },
      "source": [
        "df.isnull().sum()"
      ],
      "execution_count": null,
      "outputs": [
        {
          "output_type": "execute_result",
          "data": {
            "text/plain": [
              "user_id           0\n",
              "track_name     1231\n",
              "artist_name    7203\n",
              "genre_name     1198\n",
              "city              0\n",
              "time              0\n",
              "weekday           0\n",
              "dtype: int64"
            ]
          },
          "metadata": {
            "tags": []
          },
          "execution_count": 125
        }
      ]
    },
    {
      "cell_type": "markdown",
      "metadata": {
        "id": "4iw4hZxwiVq5"
      },
      "source": [
        "Fill in missing values with 'unknown' for *track_name* and *artist_name* columns:\n",
        "\n"
      ]
    },
    {
      "cell_type": "code",
      "metadata": {
        "deletable": false,
        "id": "EO8zFcJPlbvV"
      },
      "source": [
        "df['track_name'] = df['track_name'].fillna('unknown') "
      ],
      "execution_count": null,
      "outputs": []
    },
    {
      "cell_type": "code",
      "metadata": {
        "deletable": false,
        "id": "3hsNZcLST0UW"
      },
      "source": [
        "df['artist_name'] = df['artist_name'].fillna('unknown')"
      ],
      "execution_count": null,
      "outputs": []
    },
    {
      "cell_type": "code",
      "metadata": {
        "deletable": false,
        "id": "Ua-Z8TAblgzC",
        "outputId": "610cc0e6-a91b-4929-c827-e24a47ce8edb"
      },
      "source": [
        "df.isnull().sum()"
      ],
      "execution_count": null,
      "outputs": [
        {
          "output_type": "execute_result",
          "data": {
            "text/plain": [
              "user_id           0\n",
              "track_name        0\n",
              "artist_name       0\n",
              "genre_name     1198\n",
              "city              0\n",
              "time              0\n",
              "weekday           0\n",
              "dtype: int64"
            ]
          },
          "metadata": {
            "tags": []
          },
          "execution_count": 128
        }
      ]
    },
    {
      "cell_type": "markdown",
      "metadata": {
        "deletable": false,
        "id": "-cjfT0w2ln9C",
        "tags": [
          "9cb28dd4-e24e-4490-aebd-b37ba9e492c5"
        ]
      },
      "source": [
        "Delete missing values for *genre_name* column:"
      ]
    },
    {
      "cell_type": "code",
      "metadata": {
        "deletable": false,
        "id": "TIpk7lwtnZkZ"
      },
      "source": [
        "df.dropna(subset = ['genre_name'], inplace = True)"
      ],
      "execution_count": null,
      "outputs": []
    },
    {
      "cell_type": "code",
      "metadata": {
        "deletable": false,
        "id": "-1CT-CCZnzTA",
        "outputId": "f2163d5c-a1a7-4c83-a312-adfae9862a04"
      },
      "source": [
        "df.isnull().sum()"
      ],
      "execution_count": null,
      "outputs": [
        {
          "output_type": "execute_result",
          "data": {
            "text/plain": [
              "user_id        0\n",
              "track_name     0\n",
              "artist_name    0\n",
              "genre_name     0\n",
              "city           0\n",
              "time           0\n",
              "weekday        0\n",
              "dtype: int64"
            ]
          },
          "metadata": {
            "tags": []
          },
          "execution_count": 130
        }
      ]
    },
    {
      "cell_type": "markdown",
      "metadata": {
        "deletable": false,
        "id": "QsBXpJFzpxA9",
        "tags": [
          "ea46db29-6746-4c02-a47b-75283dde9025"
        ]
      },
      "source": [
        "Detect and delete duplicate data:"
      ]
    },
    {
      "cell_type": "code",
      "metadata": {
        "deletable": false,
        "id": "VRVI_B0RqIgT",
        "outputId": "ea6a4550-00eb-4e83-96de-8db5ee5bf0b2"
      },
      "source": [
        "df.duplicated().sum()"
      ],
      "execution_count": null,
      "outputs": [
        {
          "output_type": "execute_result",
          "data": {
            "text/plain": [
              "3755"
            ]
          },
          "metadata": {
            "tags": []
          },
          "execution_count": 131
        }
      ]
    },
    {
      "cell_type": "code",
      "metadata": {
        "deletable": false,
        "id": "nSYF38OeqZn-"
      },
      "source": [
        "df = df.drop_duplicates().reset_index(drop=True)"
      ],
      "execution_count": null,
      "outputs": []
    },
    {
      "cell_type": "code",
      "metadata": {
        "deletable": false,
        "id": "O-RfjmkCqIgV",
        "outputId": "bc71124a-0b2b-4b90-f833-50f10c7850e1"
      },
      "source": [
        "df.duplicated().sum()"
      ],
      "execution_count": null,
      "outputs": [
        {
          "output_type": "execute_result",
          "data": {
            "text/plain": [
              "0"
            ]
          },
          "metadata": {
            "tags": []
          },
          "execution_count": 133
        }
      ]
    },
    {
      "cell_type": "markdown",
      "metadata": {
        "deletable": false,
        "id": "QH-HgrApInjO",
        "tags": [
          "46fb87e8-2d9c-497d-9c6e-746eaa2631ab"
        ]
      },
      "source": [
        "Find \"hidden\" duplicates in *genre_name* column with *find_genre()* function (\"hidden\" means e.g. when the same genre name is written in different words):\n",
        "\n",
        "\n",
        "\n"
      ]
    },
    {
      "cell_type": "code",
      "metadata": {
        "deletable": false,
        "id": "FfaTfKAN-PCx"
      },
      "source": [
        "genres_list = df['genre_name'].unique()"
      ],
      "execution_count": null,
      "outputs": []
    },
    {
      "cell_type": "code",
      "metadata": {
        "deletable": false,
        "id": "TA_k-VLi-S0R"
      },
      "source": [
        "def find_genre(genre):\n",
        "    count = 0\n",
        "    for g in genres_list:\n",
        "        if g == genre:\n",
        "            count += 1\n",
        "    return count"
      ],
      "execution_count": null,
      "outputs": []
    },
    {
      "cell_type": "markdown",
      "metadata": {
        "deletable": false,
        "id": "vb3CTOciIL27",
        "tags": [
          "b57e3325-29fc-4ade-83a3-91113c5dad32"
        ]
      },
      "source": [
        "Call *find_genre()* function to find different variants of 'hip-hop' genre.\n",
        "\n",
        "Right variant would be *hiphop*. Let's find other variants:\n",
        "* hip\n",
        "* hop\n",
        "* hip-hop\n"
      ]
    },
    {
      "cell_type": "code",
      "metadata": {
        "deletable": false,
        "id": "YrwqExZS-dyQ",
        "outputId": "33b2cc9a-8be3-4558-c150-2304a4df4b25"
      },
      "source": [
        "find_genre('hip')"
      ],
      "execution_count": null,
      "outputs": [
        {
          "output_type": "execute_result",
          "data": {
            "text/plain": [
              "1"
            ]
          },
          "metadata": {
            "tags": []
          },
          "execution_count": 140
        }
      ]
    },
    {
      "cell_type": "code",
      "metadata": {
        "deletable": false,
        "id": "ZoL4EEcR-dyU",
        "outputId": "31380dbb-257f-493d-ca45-628d83c25ab8"
      },
      "source": [
        "find_genre('hop')"
      ],
      "execution_count": null,
      "outputs": [
        {
          "output_type": "execute_result",
          "data": {
            "text/plain": [
              "0"
            ]
          },
          "metadata": {
            "tags": []
          },
          "execution_count": 141
        }
      ]
    },
    {
      "cell_type": "code",
      "metadata": {
        "deletable": false,
        "id": "MFowmiug-qZD",
        "outputId": "b9250471-0010-4db3-d62b-1f65e18a0196"
      },
      "source": [
        "find_genre('hip-hop')"
      ],
      "execution_count": null,
      "outputs": [
        {
          "output_type": "execute_result",
          "data": {
            "text/plain": [
              "0"
            ]
          },
          "metadata": {
            "tags": []
          },
          "execution_count": 142
        }
      ]
    },
    {
      "cell_type": "markdown",
      "metadata": {
        "deletable": false,
        "id": "a7BQY6ORLMSG",
        "tags": [
          "11f77aa1-5478-453d-b31e-f20041047bb7"
        ]
      },
      "source": [
        "Define *find_hip_hop()* function, which replaces wrong name of this genre in  *'genre_name'* column with *'hiphop'* and checks if it's done well.\n",
        "\n",
        "Then correct all variants which were found with find_genre() function."
      ]
    },
    {
      "cell_type": "code",
      "metadata": {
        "deletable": false,
        "id": "31xlzL_c_FgB"
      },
      "source": [
        "def find_hip_hop(df, wrong):\n",
        "    df['genre_name'] = df['genre_name'].replace(wrong, 'hiphop')\n",
        "    final_count = df[df['genre_name'] == wrong]['genre_name'].count()\n",
        "    return final_count"
      ],
      "execution_count": null,
      "outputs": []
    },
    {
      "cell_type": "code",
      "metadata": {
        "deletable": false,
        "id": "ZFXMV2qW_FgE",
        "outputId": "1a04775f-0bdf-41d6-e301-5ad65aac51f7"
      },
      "source": [
        "find_hip_hop(df,'hip')"
      ],
      "execution_count": null,
      "outputs": [
        {
          "output_type": "execute_result",
          "data": {
            "text/plain": [
              "0"
            ]
          },
          "metadata": {
            "tags": []
          },
          "execution_count": 145
        }
      ]
    },
    {
      "cell_type": "markdown",
      "metadata": {
        "id": "J6vne5fGr30b"
      },
      "source": [
        "Now check if everything is okay in the data:"
      ]
    },
    {
      "cell_type": "code",
      "metadata": {
        "deletable": false,
        "id": "-yyvdzHA_uJm",
        "outputId": "e01f1925-2315-443e-f3dc-fc7126d16198"
      },
      "source": [
        "df.info()"
      ],
      "execution_count": null,
      "outputs": [
        {
          "output_type": "stream",
          "text": [
            "<class 'pandas.core.frame.DataFrame'>\n",
            "RangeIndex: 60126 entries, 0 to 60125\n",
            "Data columns (total 7 columns):\n",
            "user_id        60126 non-null object\n",
            "track_name     60126 non-null object\n",
            "artist_name    60126 non-null object\n",
            "genre_name     60126 non-null object\n",
            "city           60126 non-null object\n",
            "time           60126 non-null object\n",
            "weekday        60126 non-null object\n",
            "dtypes: object(7)\n",
            "memory usage: 3.2+ MB\n"
          ],
          "name": "stdout"
        }
      ]
    },
    {
      "cell_type": "markdown",
      "metadata": {
        "deletable": false,
        "id": "MF4nnd1YJUrI",
        "tags": [
          "ac8df732-1797-479a-9c4c-a03745931a9d"
        ]
      },
      "source": [
        "# Listening pattern by day of the week"
      ]
    },
    {
      "cell_type": "markdown",
      "metadata": {
        "deletable": false,
        "id": "AYSL1OvyM2pL"
      },
      "source": [
        "Hypothesis is that there are different listening patterns in Moscow and Saint Petersburg. Let's check this using data on three days of the week — Monday, Wednesday and Friday."
      ]
    },
    {
      "cell_type": "markdown",
      "metadata": {
        "deletable": false,
        "id": "OM5Eeh7FNWC-"
      },
      "source": [
        "Count all tracks group by *city*:"
      ]
    },
    {
      "cell_type": "code",
      "metadata": {
        "deletable": false,
        "id": "AtH_pP1i_0m1",
        "outputId": "5f9dce07-7a6e-4040-d5d1-ca144a31f337"
      },
      "source": [
        "df.groupby('city')['genre_name'].count()"
      ],
      "execution_count": null,
      "outputs": [
        {
          "output_type": "execute_result",
          "data": {
            "text/plain": [
              "city\n",
              "Moscow              41892\n",
              "Saint-Petersburg    18234\n",
              "Name: genre_name, dtype: int64"
            ]
          },
          "metadata": {
            "tags": []
          },
          "execution_count": 147
        }
      ]
    },
    {
      "cell_type": "markdown",
      "metadata": {
        "deletable": false,
        "id": "XBR226DMpIDf"
      },
      "source": [
        "The result doesn't mean that Moscow is more \"active\"; there are just more users in Moscow then in Saint Petersburg."
      ]
    },
    {
      "cell_type": "markdown",
      "metadata": {
        "deletable": false,
        "id": "P7EcNQuyNbNB",
        "tags": [
          "133ddd49-3b63-45b1-b50c-9e6ab5fc4175"
        ]
      },
      "source": [
        "Count all tracks listened to on Monday, Wednesday and Friday respectively:"
      ]
    },
    {
      "cell_type": "code",
      "metadata": {
        "deletable": false,
        "id": "A8E_Tb2b_3un",
        "outputId": "dc7a8b2f-850e-4d0e-fa8d-00f64382a094"
      },
      "source": [
        "df.groupby('weekday')['genre_name'].count()"
      ],
      "execution_count": null,
      "outputs": [
        {
          "output_type": "execute_result",
          "data": {
            "text/plain": [
              "weekday\n",
              "Friday       21482\n",
              "Monday       20866\n",
              "Wednesday    17778\n",
              "Name: genre_name, dtype: int64"
            ]
          },
          "metadata": {
            "tags": []
          },
          "execution_count": 148
        }
      ]
    },
    {
      "cell_type": "markdown",
      "metadata": {
        "deletable": false,
        "id": "Zhh6hehCpq_U"
      },
      "source": [
        "Monday and Friday — music time!"
      ]
    },
    {
      "cell_type": "markdown",
      "metadata": {
        "deletable": false,
        "id": "bYab2U5BNdmZ",
        "tags": [
          "bae0a168-5e2b-40f9-9701-bfb32d016517"
        ]
      },
      "source": [
        "Let's check the number of tracks for each city on Monday, Wednesday and Friday respectively using *number_tracks()* function: "
      ]
    },
    {
      "cell_type": "code",
      "metadata": {
        "deletable": false,
        "id": "4SqpGSi5_7hA"
      },
      "source": [
        "def number_tracks(df, day, city):\n",
        "    track_list = df[(df['weekday']==day) & (df['city']==city)]\n",
        "    track_list_count = track_list['genre_name'].count()\n",
        "    return(track_list_count)"
      ],
      "execution_count": null,
      "outputs": []
    },
    {
      "cell_type": "code",
      "metadata": {
        "deletable": false,
        "id": "W6Kt2Buibmk7",
        "outputId": "e3867ffe-7cc5-4f35-bebf-1166e2ad8dc4"
      },
      "source": [
        "number_tracks(df, 'Monday', 'Moscow')"
      ],
      "execution_count": null,
      "outputs": [
        {
          "output_type": "execute_result",
          "data": {
            "text/plain": [
              "15347"
            ]
          },
          "metadata": {
            "tags": []
          },
          "execution_count": 152
        }
      ]
    },
    {
      "cell_type": "code",
      "metadata": {
        "deletable": false,
        "id": "W79LJztVbmk7",
        "outputId": "5317dbf0-64bc-4075-8767-719cf22c2c98"
      },
      "source": [
        "number_tracks(df, 'Monday', 'Saint-Petersburg')"
      ],
      "execution_count": null,
      "outputs": [
        {
          "output_type": "execute_result",
          "data": {
            "text/plain": [
              "5519"
            ]
          },
          "metadata": {
            "tags": []
          },
          "execution_count": 153
        }
      ]
    },
    {
      "cell_type": "code",
      "metadata": {
        "deletable": false,
        "id": "adToSmoDbmk7",
        "outputId": "06385a35-8800-4de5-9fd5-a8fab654ba76"
      },
      "source": [
        "number_tracks(df, 'Wednesday', 'Moscow')"
      ],
      "execution_count": null,
      "outputs": [
        {
          "output_type": "execute_result",
          "data": {
            "text/plain": [
              "10865"
            ]
          },
          "metadata": {
            "tags": []
          },
          "execution_count": 154
        }
      ]
    },
    {
      "cell_type": "code",
      "metadata": {
        "deletable": false,
        "id": "8UzxG5aHbmk7",
        "outputId": "a7496770-796e-4d7b-9691-0f80609a0de3"
      },
      "source": [
        "number_tracks(df, 'Wednesday', 'Saint-Petersburg')"
      ],
      "execution_count": null,
      "outputs": [
        {
          "output_type": "execute_result",
          "data": {
            "text/plain": [
              "6913"
            ]
          },
          "metadata": {
            "tags": []
          },
          "execution_count": 155
        }
      ]
    },
    {
      "cell_type": "code",
      "metadata": {
        "deletable": false,
        "id": "3pGBmpdMbmk8",
        "outputId": "29ae6690-459e-486f-a99b-979aa5758397"
      },
      "source": [
        "number_tracks(df, 'Friday', 'Moscow')"
      ],
      "execution_count": null,
      "outputs": [
        {
          "output_type": "execute_result",
          "data": {
            "text/plain": [
              "15680"
            ]
          },
          "metadata": {
            "tags": []
          },
          "execution_count": 156
        }
      ]
    },
    {
      "cell_type": "code",
      "metadata": {
        "deletable": false,
        "id": "gmf1KqK5bmk8",
        "outputId": "47b9b515-0ea1-4b52-e806-5f68f4767aee"
      },
      "source": [
        "number_tracks(df, 'Friday', 'Saint-Petersburg')"
      ],
      "execution_count": null,
      "outputs": [
        {
          "output_type": "execute_result",
          "data": {
            "text/plain": [
              "5802"
            ]
          },
          "metadata": {
            "tags": []
          },
          "execution_count": 157
        }
      ]
    },
    {
      "cell_type": "markdown",
      "metadata": {
        "deletable": false,
        "id": "tCB9zwzzqZ8g",
        "tags": [
          "d73e12bf-3635-484b-8fb6-c7ccc2101671"
        ]
      },
      "source": [
        "Summary table:\n"
      ]
    },
    {
      "cell_type": "code",
      "metadata": {
        "deletable": false,
        "id": "W6slJXDXbmk8",
        "outputId": "7a2ed233-a428-4afd-8ae8-287a1b515fa5"
      },
      "source": [
        "data = [['Moscow', 15347, 10865, 15680],\n",
        "       ['Saint-Petersburg', 5519, 6913, 5802]] \n",
        "columns = ['city','monday','wednesday','friday']\n",
        "table = pd.DataFrame(data = data, columns = columns)\n",
        "table"
      ],
      "execution_count": null,
      "outputs": [
        {
          "output_type": "execute_result",
          "data": {
            "text/html": [
              "<div>\n",
              "<style scoped>\n",
              "    .dataframe tbody tr th:only-of-type {\n",
              "        vertical-align: middle;\n",
              "    }\n",
              "\n",
              "    .dataframe tbody tr th {\n",
              "        vertical-align: top;\n",
              "    }\n",
              "\n",
              "    .dataframe thead th {\n",
              "        text-align: right;\n",
              "    }\n",
              "</style>\n",
              "<table border=\"1\" class=\"dataframe\">\n",
              "  <thead>\n",
              "    <tr style=\"text-align: right;\">\n",
              "      <th></th>\n",
              "      <th>city</th>\n",
              "      <th>monday</th>\n",
              "      <th>wednesday</th>\n",
              "      <th>friday</th>\n",
              "    </tr>\n",
              "  </thead>\n",
              "  <tbody>\n",
              "    <tr>\n",
              "      <td>0</td>\n",
              "      <td>Moscow</td>\n",
              "      <td>15347</td>\n",
              "      <td>10865</td>\n",
              "      <td>15680</td>\n",
              "    </tr>\n",
              "    <tr>\n",
              "      <td>1</td>\n",
              "      <td>Saint-Petersburg</td>\n",
              "      <td>5519</td>\n",
              "      <td>6913</td>\n",
              "      <td>5802</td>\n",
              "    </tr>\n",
              "  </tbody>\n",
              "</table>\n",
              "</div>"
            ],
            "text/plain": [
              "               city  monday  wednesday  friday\n",
              "0            Moscow   15347      10865   15680\n",
              "1  Saint-Petersburg    5519       6913    5802"
            ]
          },
          "metadata": {
            "tags": []
          },
          "execution_count": 160
        }
      ]
    },
    {
      "cell_type": "markdown",
      "metadata": {
        "deletable": false,
        "id": "RJpg6I8jqQ0x"
      },
      "source": [
        "The results show that listening pattern is \"mirrored\" for Moscow and Saint Petersburg: in Moscow listening time decreases on Wednesday, peaking on Monday and Friday. Whereas in Saint Petersburg Wednesday is the day of the most interest in music, and on Monday and Friday it is less."
      ]
    },
    {
      "cell_type": "markdown",
      "metadata": {
        "deletable": false,
        "id": "tLdpUGyewzGf",
        "tags": [
          "1eb8124a-f066-4c43-b1f4-bc672c5efd57"
        ]
      },
      "source": [
        "# Music genre on Monday morning and Friday evening"
      ]
    },
    {
      "cell_type": "markdown",
      "metadata": {
        "deletable": false,
        "id": "SaQlxcVntL3x"
      },
      "source": [
        "Hypothesis is that users tend to listen to more energetic music (e.g. pop) on Monday morning, and dancing music (e.g. electronic) on Friday evening."
      ]
    },
    {
      "cell_type": "markdown",
      "metadata": {
        "deletable": false,
        "id": "lYGAneOaPBhS"
      },
      "source": [
        "Get separate tables for Moscow (*moscow_general*) and for Saint Petersburg (*spb_general*)"
      ]
    },
    {
      "cell_type": "code",
      "metadata": {
        "deletable": false,
        "id": "Pyz1i56nA5IS"
      },
      "source": [
        "moscow_general = df[df['city']=='Moscow']"
      ],
      "execution_count": null,
      "outputs": []
    },
    {
      "cell_type": "code",
      "metadata": {
        "deletable": false,
        "id": "w3NNN-2hA-al"
      },
      "source": [
        "spb_general = df[df['city']=='Saint-Petersburg']"
      ],
      "execution_count": null,
      "outputs": []
    },
    {
      "cell_type": "markdown",
      "metadata": {
        "deletable": false,
        "id": "duDdH_WiPLky",
        "tags": [
          "7f7cae13-ec1c-45c4-9204-0a4354fe1766"
        ]
      },
      "source": [
        "*genre_weekday()* function returns a list of genres by day of the week and specific time range:"
      ]
    },
    {
      "cell_type": "code",
      "metadata": {
        "deletable": false,
        "id": "JhUdQynHBEYw"
      },
      "source": [
        "def genre_weekday(df, day, time1, time2):\n",
        "    genre_list = df[(df['weekday']==day) & (df['time']>time1) & (df['time']<time2)]\n",
        "    genre_list_sorted = genre_list.groupby('genre_name')['genre_name'].count().sort_values(ascending = False).head(10)\n",
        "    return genre_list_sorted"
      ],
      "execution_count": null,
      "outputs": []
    },
    {
      "cell_type": "markdown",
      "metadata": {
        "deletable": false,
        "id": "bxGC8kXkP7B-",
        "tags": [
          "63e2c3f3-fa64-4376-8221-e8b753264535"
        ]
      },
      "source": [
        "Let's compare the results for Moscow and Saint Petersburg on Monday morning (from 7am to 11 am) and on Friday evening (from 5pm to 11pm):"
      ]
    },
    {
      "cell_type": "code",
      "metadata": {
        "deletable": false,
        "id": "kbgeq-55BLEI",
        "outputId": "524b2c27-7833-4a46-a6bc-13fb44a98800"
      },
      "source": [
        "genre_weekday(moscow_general, 'Monday', '07:00:00', '11:00:00')"
      ],
      "execution_count": null,
      "outputs": [
        {
          "output_type": "execute_result",
          "data": {
            "text/plain": [
              "genre_name\n",
              "pop            781\n",
              "dance          549\n",
              "electronic     480\n",
              "rock           474\n",
              "hiphop         286\n",
              "ruspop         186\n",
              "world          181\n",
              "rusrap         175\n",
              "alternative    164\n",
              "classical      157\n",
              "Name: genre_name, dtype: int64"
            ]
          },
          "metadata": {
            "tags": []
          },
          "execution_count": 166
        }
      ]
    },
    {
      "cell_type": "code",
      "metadata": {
        "deletable": false,
        "id": "XHwa8N2EBRXO",
        "outputId": "0df93e48-32fe-4dd1-ec5f-0f4479df5a03"
      },
      "source": [
        "genre_weekday(spb_general, 'Monday', '07:00:00', '11:00:00')"
      ],
      "execution_count": null,
      "outputs": [
        {
          "output_type": "execute_result",
          "data": {
            "text/plain": [
              "genre_name\n",
              "pop            218\n",
              "dance          182\n",
              "rock           162\n",
              "electronic     147\n",
              "hiphop          80\n",
              "ruspop          64\n",
              "alternative     58\n",
              "rusrap          55\n",
              "jazz            44\n",
              "classical       40\n",
              "Name: genre_name, dtype: int64"
            ]
          },
          "metadata": {
            "tags": []
          },
          "execution_count": 167
        }
      ]
    },
    {
      "cell_type": "code",
      "metadata": {
        "deletable": false,
        "id": "YvdSbg2jBUeq",
        "outputId": "e9f70ae6-98fd-4664-942a-08ed234a5caf"
      },
      "source": [
        "genre_weekday(moscow_general, 'Friday', '17:00:00', '23:00:00')"
      ],
      "execution_count": null,
      "outputs": [
        {
          "output_type": "execute_result",
          "data": {
            "text/plain": [
              "genre_name\n",
              "pop            713\n",
              "rock           517\n",
              "dance          495\n",
              "electronic     482\n",
              "hiphop         273\n",
              "world          208\n",
              "ruspop         170\n",
              "alternative    163\n",
              "classical      163\n",
              "rusrap         142\n",
              "Name: genre_name, dtype: int64"
            ]
          },
          "metadata": {
            "tags": []
          },
          "execution_count": 168
        }
      ]
    },
    {
      "cell_type": "code",
      "metadata": {
        "deletable": false,
        "id": "Ew3ig4fPBUeu",
        "outputId": "aa01f95c-fa51-4997-a2e1-31eb3a31e0c2"
      },
      "source": [
        "genre_weekday(spb_general, 'Friday', '17:00:00', '23:00:00')"
      ],
      "execution_count": null,
      "outputs": [
        {
          "output_type": "execute_result",
          "data": {
            "text/plain": [
              "genre_name\n",
              "pop            256\n",
              "rock           216\n",
              "electronic     216\n",
              "dance          210\n",
              "hiphop          97\n",
              "alternative     63\n",
              "jazz            61\n",
              "classical       60\n",
              "rusrap          59\n",
              "world           54\n",
              "Name: genre_name, dtype: int64"
            ]
          },
          "metadata": {
            "tags": []
          },
          "execution_count": 169
        }
      ]
    },
    {
      "cell_type": "markdown",
      "metadata": {
        "deletable": false,
        "id": "j8ypBMwSymL6"
      },
      "source": [
        "Pop genre is always the absolute leader and top-5 is quite the same for both cities. "
      ]
    },
    {
      "cell_type": "markdown",
      "metadata": {
        "deletable": false,
        "id": "D7YMmgKRw270",
        "tags": [
          "f363205e-76b1-4883-abf1-bf21c9572dc7"
        ]
      },
      "source": [
        "# Different cities, different genres... or not?"
      ]
    },
    {
      "cell_type": "markdown",
      "metadata": {
        "deletable": false,
        "id": "Wc5srT13zb4Z"
      },
      "source": [
        "Hypothesis: Saint Petersburg is known for its rap culture so this genre is listened to more often; and Moscow is the city of contracts, but the majority of users listen to pop-music.\n",
        "\n"
      ]
    },
    {
      "cell_type": "markdown",
      "metadata": {
        "deletable": false,
        "id": "2SFE9_RV2KEL"
      },
      "source": [
        "Let's get separate tables for Moscow (*moscow_genres*) and for Saint Petersburg (*spb_genres*)"
      ]
    },
    {
      "cell_type": "code",
      "metadata": {
        "deletable": false,
        "id": "OohoTcsYBheo"
      },
      "source": [
        "moscow_genres = moscow_general.groupby('genre_name')['genre_name'].count().sort_values(ascending = False)"
      ],
      "execution_count": null,
      "outputs": []
    },
    {
      "cell_type": "code",
      "metadata": {
        "deletable": false,
        "id": "h7IhIKDrBher",
        "outputId": "11685911-e6e8-48be-e8e1-bfb864d1ccbd"
      },
      "source": [
        "moscow_genres.head(10)"
      ],
      "execution_count": null,
      "outputs": [
        {
          "output_type": "execute_result",
          "data": {
            "text/plain": [
              "genre_name\n",
              "pop            5892\n",
              "dance          4435\n",
              "rock           3965\n",
              "electronic     3786\n",
              "hiphop         2096\n",
              "classical      1616\n",
              "world          1432\n",
              "alternative    1379\n",
              "ruspop         1372\n",
              "rusrap         1161\n",
              "Name: genre_name, dtype: int64"
            ]
          },
          "metadata": {
            "tags": []
          },
          "execution_count": 171
        }
      ]
    },
    {
      "cell_type": "code",
      "metadata": {
        "deletable": false,
        "id": "eQrdA85dB1LO"
      },
      "source": [
        "spb_genres = spb_general.groupby('genre_name')['genre_name'].count().sort_values(ascending = False)"
      ],
      "execution_count": null,
      "outputs": []
    },
    {
      "cell_type": "code",
      "metadata": {
        "deletable": false,
        "id": "AE-Z-1wCB1LS",
        "outputId": "772bdd9a-9991-46bf-baad-f16b5aab1997"
      },
      "source": [
        "spb_genres.head(10)"
      ],
      "execution_count": null,
      "outputs": [
        {
          "output_type": "execute_result",
          "data": {
            "text/plain": [
              "genre_name\n",
              "pop            2431\n",
              "dance          1932\n",
              "rock           1879\n",
              "electronic     1736\n",
              "hiphop          960\n",
              "alternative     649\n",
              "classical       646\n",
              "rusrap          564\n",
              "ruspop          538\n",
              "world           515\n",
              "Name: genre_name, dtype: int64"
            ]
          },
          "metadata": {
            "tags": []
          },
          "execution_count": 173
        }
      ]
    },
    {
      "cell_type": "markdown",
      "metadata": {
        "deletable": false,
        "id": "-9R3-Qh02tNt"
      },
      "source": [
        "Contrary to what had been assumed, rap music is on similar positions in both cities. "
      ]
    },
    {
      "cell_type": "markdown",
      "metadata": {
        "deletable": false,
        "id": "gLlT9nKMQ3ky",
        "tags": [
          "0d44c8c0-390b-4c9e-b797-ddc3993f6e58"
        ]
      },
      "source": [
        "# 4. Results of the research\n"
      ]
    },
    {
      "cell_type": "markdown",
      "metadata": {
        "deletable": false,
        "id": "GtvyRBbD7dv5"
      },
      "source": [
        "Hypotheses:\n",
        "\n",
        "* there are different listening patterns in Moscow and Saint Petersburg (*confirmed*);\n",
        "\n",
        "* top-10 genres on Monday morning and on Friday evening are quite distinct (*disproved*);\n",
        "\n",
        "* people in two cities prefer different music genres (*disproved*).\n",
        "\n",
        "**Overall results**\n",
        "\n",
        "Moscow and Saint Petersburg share the same tastes: pop music is the absolute leader. There are no special preferences depending on day of the week: users always listen to what they like. But listening pattern is \"mirrored\" for Moscow and Saint Petersburg: Moscow listens more music on Monday and Friday, and Saint Petersburg — on Wednesday."
      ]
    }
  ]
}